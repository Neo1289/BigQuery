{
 "cells": [
  {
   "cell_type": "code",
   "execution_count": 1,
   "id": "f1704941-9efa-4f72-b726-2f66ce93c175",
   "metadata": {},
   "outputs": [
    {
     "name": "stdout",
     "output_type": "stream",
     "text": [
      " Volume in drive C is Windows\n",
      " Volume Serial Number is 6838-3BE7\n",
      "\n",
      " Directory of C:\\Users\\nrade\\Desktop\\BigQuery\n",
      "\n",
      "28/04/2025  16:53    <DIR>          .\n",
      "27/04/2025  16:28    <DIR>          ..\n",
      "23/04/2025  15:59               101 .gitignore\n",
      "28/04/2025  16:51    <DIR>          .ipynb_checkpoints\n",
      "01/02/2025  17:11             2,350 connection-123-892e002c2def.json\n",
      "23/04/2025  16:17                48 datacoms_apy_key.txt\n",
      "23/04/2025  15:56               761 etl.py\n",
      "13/04/2025  17:27                32 fred_api_key.txt\n",
      "28/04/2025  16:41             2,311 logfile.txt\n",
      "28/04/2025  16:51    <DIR>          notebooks\n",
      "13/04/2025  17:23                92 README.md\n",
      "28/04/2025  16:34    <DIR>          scripts\n",
      "28/04/2025  16:53             1,106 testing_area.ipynb\n",
      "               8 File(s)          6,801 bytes\n",
      "               5 Dir(s)  937,559,437,312 bytes free\n"
     ]
    }
   ],
   "source": [
    "ls"
   ]
  },
  {
   "cell_type": "code",
   "execution_count": 3,
   "id": "81b3eb9a-4b72-454a-8f5b-743c41370f1b",
   "metadata": {},
   "outputs": [],
   "source": [
    "from scripts import bitcoin_price"
   ]
  },
  {
   "cell_type": "code",
   "execution_count": 4,
   "id": "36f1d27a-ea67-4c69-abac-f5e57b7ef375",
   "metadata": {},
   "outputs": [
    {
     "data": {
      "text/plain": [
       "['Any',\n",
       " '__builtins__',\n",
       " '__cached__',\n",
       " '__doc__',\n",
       " '__file__',\n",
       " '__loader__',\n",
       " '__name__',\n",
       " '__package__',\n",
       " '__spec__',\n",
       " 'bigquery',\n",
       " 'destination_table',\n",
       " 'fetch_bitcoin_price',\n",
       " 'logging',\n",
       " 'os',\n",
       " 'pandas_gbq',\n",
       " 'pd',\n",
       " 'requests',\n",
       " 'run_etl',\n",
       " 'schema',\n",
       " 'service_account']"
      ]
     },
     "execution_count": 4,
     "metadata": {},
     "output_type": "execute_result"
    }
   ],
   "source": [
    "dir(bitcoin_price)"
   ]
  },
  {
   "cell_type": "code",
   "execution_count": 5,
   "id": "9be74e5b-5587-444e-af8f-7db427ff123b",
   "metadata": {},
   "outputs": [
    {
     "data": {
      "text/plain": [
       "'C:\\\\Users\\\\nrade\\\\Desktop\\\\BigQuery\\\\scripts\\\\bitcoin_price.py'"
      ]
     },
     "execution_count": 5,
     "metadata": {},
     "output_type": "execute_result"
    }
   ],
   "source": [
    "bitcoin_price.__file__"
   ]
  },
  {
   "cell_type": "code",
   "execution_count": 1,
   "id": "758f8519-fa7d-4796-b5a6-4cbe3234d2c5",
   "metadata": {},
   "outputs": [
    {
     "name": "stdout",
     "output_type": "stream",
     "text": [
      " Volume in drive C is Windows\n",
      " Volume Serial Number is 6838-3BE7\n",
      "\n",
      " Directory of C:\\Users\\nrade\\Desktop\\BigQuery\n",
      "\n",
      "06/05/2025  17:05    <DIR>          .\n",
      "06/05/2025  17:00    <DIR>          ..\n",
      "23/04/2025  15:59               101 .gitignore\n",
      "28/04/2025  16:51    <DIR>          .ipynb_checkpoints\n",
      "06/05/2025  17:00           288,554 API_NY.GDP.MKTP.CD_DS2_en_csv_v2_19294.csv\n",
      "01/02/2025  17:11             2,350 connection-123-892e002c2def.json\n",
      "23/04/2025  16:17                48 datacoms_apy_key.txt\n",
      "06/05/2025  17:05               838 etl.py\n",
      "13/04/2025  17:27                32 fred_api_key.txt\n",
      "06/05/2025  17:05             8,476 logfile.txt\n",
      "28/04/2025  16:51    <DIR>          notebooks\n",
      "13/04/2025  17:23                92 README.md\n",
      "30/04/2025  17:30    <DIR>          scripts\n",
      "28/04/2025  17:08             4,951 testing_area.ipynb\n",
      "               9 File(s)        305,442 bytes\n",
      "               5 Dir(s)  931,475,607,552 bytes free\n"
     ]
    }
   ],
   "source": [
    "ls"
   ]
  },
  {
   "cell_type": "code",
   "execution_count": 2,
   "id": "a837d790-467b-409b-9ed8-1989a991ea92",
   "metadata": {},
   "outputs": [],
   "source": [
    "import pandas as pd"
   ]
  },
  {
   "cell_type": "code",
   "execution_count": 4,
   "id": "4e77ddfe-7797-4f7c-8ebf-c8444970d523",
   "metadata": {},
   "outputs": [],
   "source": [
    "df = pd.read_csv(\"corruption.csv\")"
   ]
  },
  {
   "cell_type": "code",
   "execution_count": 5,
   "id": "777c4880-f187-4bea-b1bf-eb771c9eabc9",
   "metadata": {},
   "outputs": [
    {
     "data": {
      "text/html": [
       "<div>\n",
       "<style scoped>\n",
       "    .dataframe tbody tr th:only-of-type {\n",
       "        vertical-align: middle;\n",
       "    }\n",
       "\n",
       "    .dataframe tbody tr th {\n",
       "        vertical-align: top;\n",
       "    }\n",
       "\n",
       "    .dataframe thead th {\n",
       "        text-align: right;\n",
       "    }\n",
       "</style>\n",
       "<table border=\"1\" class=\"dataframe\">\n",
       "  <thead>\n",
       "    <tr style=\"text-align: right;\">\n",
       "      <th></th>\n",
       "      <th>country</th>\n",
       "      <th>annual_income</th>\n",
       "      <th>corruption_index</th>\n",
       "    </tr>\n",
       "  </thead>\n",
       "  <tbody>\n",
       "    <tr>\n",
       "      <th>0</th>\n",
       "      <td>Denmark</td>\n",
       "      <td>68110</td>\n",
       "      <td>12</td>\n",
       "    </tr>\n",
       "    <tr>\n",
       "      <th>1</th>\n",
       "      <td>Finland</td>\n",
       "      <td>53660</td>\n",
       "      <td>12</td>\n",
       "    </tr>\n",
       "    <tr>\n",
       "      <th>2</th>\n",
       "      <td>New Zealand</td>\n",
       "      <td>45340</td>\n",
       "      <td>12</td>\n",
       "    </tr>\n",
       "    <tr>\n",
       "      <th>3</th>\n",
       "      <td>Norway</td>\n",
       "      <td>84090</td>\n",
       "      <td>15</td>\n",
       "    </tr>\n",
       "    <tr>\n",
       "      <th>4</th>\n",
       "      <td>Singapore</td>\n",
       "      <td>64010</td>\n",
       "      <td>15</td>\n",
       "    </tr>\n",
       "  </tbody>\n",
       "</table>\n",
       "</div>"
      ],
      "text/plain": [
       "       country  annual_income  corruption_index\n",
       "0      Denmark          68110                12\n",
       "1      Finland          53660                12\n",
       "2  New Zealand          45340                12\n",
       "3       Norway          84090                15\n",
       "4    Singapore          64010                15"
      ]
     },
     "execution_count": 5,
     "metadata": {},
     "output_type": "execute_result"
    }
   ],
   "source": [
    "df.head()"
   ]
  },
  {
   "cell_type": "code",
   "execution_count": null,
   "id": "76084a9e-05bb-4058-82b9-58497a3a4e95",
   "metadata": {},
   "outputs": [],
   "source": []
  },
  {
   "cell_type": "code",
   "execution_count": 11,
   "id": "f389bb59-f771-45c1-8033-ff8eb2b86f68",
   "metadata": {},
   "outputs": [],
   "source": [
    "from pathlib import Path"
   ]
  },
  {
   "cell_type": "code",
   "execution_count": 16,
   "id": "30d12bcd-337f-4435-8241-bfd64b5361c0",
   "metadata": {},
   "outputs": [],
   "source": [
    "current_directory = Path.cwd()"
   ]
  },
  {
   "cell_type": "code",
   "execution_count": 20,
   "id": "268da299-b5bd-41ce-8325-7631264a4f55",
   "metadata": {},
   "outputs": [
    {
     "name": "stdout",
     "output_type": "stream",
     "text": [
      "C:\\Users\\nrade\\Desktop\\BigQuery\n"
     ]
    }
   ],
   "source": [
    "print(current_directory)"
   ]
  },
  {
   "cell_type": "code",
   "execution_count": 21,
   "id": "f8dba25e-5faf-41f4-ba0a-c3c0a5d98c0d",
   "metadata": {},
   "outputs": [],
   "source": [
    "file_name = 'corruption.csv'"
   ]
  },
  {
   "cell_type": "code",
   "execution_count": 22,
   "id": "2a98d382-0499-4ef6-a7eb-5f4f0a28b31d",
   "metadata": {},
   "outputs": [],
   "source": [
    "file_path_obj = current_directory / file_name"
   ]
  },
  {
   "cell_type": "code",
   "execution_count": 26,
   "id": "a6371a03-9426-478a-a3d0-b55d8dca2962",
   "metadata": {},
   "outputs": [],
   "source": [
    "absolute_file_path = str(file_path_obj.resolve())"
   ]
  },
  {
   "cell_type": "code",
   "execution_count": 27,
   "id": "6cbf99c9-d5da-41ba-b9ec-d96d017fd714",
   "metadata": {},
   "outputs": [
    {
     "data": {
      "text/plain": [
       "'C:\\\\Users\\\\nrade\\\\Desktop\\\\BigQuery\\\\corruption.csv'"
      ]
     },
     "execution_count": 27,
     "metadata": {},
     "output_type": "execute_result"
    }
   ],
   "source": [
    "absolute_file_path"
   ]
  },
  {
   "cell_type": "code",
   "execution_count": 29,
   "id": "ed3c88dd-aceb-4764-88d8-f9fa6a9ce1c6",
   "metadata": {},
   "outputs": [],
   "source": [
    "import pandas as pd\n",
    "from pathlib import Path\n",
    "\n",
    "current_directory = Path.cwd()\n",
    "file_name = \"corruption.csv\"\n",
    "\n",
    "file_path_obj = str((current_directory / file_name).resolve())\n",
    "\n",
    "df = pd.read_csv(file_path_obj)\n"
   ]
  },
  {
   "cell_type": "code",
   "execution_count": 30,
   "id": "87bebf9f-726c-44bb-9417-3529da4d789a",
   "metadata": {},
   "outputs": [
    {
     "data": {
      "text/plain": [
       "'C:\\\\Users\\\\nrade\\\\Desktop\\\\BigQuery\\\\corruption.csv'"
      ]
     },
     "execution_count": 30,
     "metadata": {},
     "output_type": "execute_result"
    }
   ],
   "source": [
    "file_path_obj"
   ]
  },
  {
   "cell_type": "code",
   "execution_count": null,
   "id": "968fff89-9d48-433f-ab6f-8570479f1d41",
   "metadata": {},
   "outputs": [],
   "source": []
  }
 ],
 "metadata": {
  "kernelspec": {
   "display_name": "Python 3 (ipykernel)",
   "language": "python",
   "name": "python3"
  },
  "language_info": {
   "codemirror_mode": {
    "name": "ipython",
    "version": 3
   },
   "file_extension": ".py",
   "mimetype": "text/x-python",
   "name": "python",
   "nbconvert_exporter": "python",
   "pygments_lexer": "ipython3",
   "version": "3.13.1"
  }
 },
 "nbformat": 4,
 "nbformat_minor": 5
}
