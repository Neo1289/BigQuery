{
 "cells": [
  {
   "cell_type": "code",
   "execution_count": 1,
   "id": "f1704941-9efa-4f72-b726-2f66ce93c175",
   "metadata": {},
   "outputs": [
    {
     "name": "stdout",
     "output_type": "stream",
     "text": [
      " Volume in drive C is Windows\n",
      " Volume Serial Number is 6838-3BE7\n",
      "\n",
      " Directory of C:\\Users\\nrade\\Desktop\\BigQuery\n",
      "\n",
      "28/04/2025  16:53    <DIR>          .\n",
      "27/04/2025  16:28    <DIR>          ..\n",
      "23/04/2025  15:59               101 .gitignore\n",
      "28/04/2025  16:51    <DIR>          .ipynb_checkpoints\n",
      "01/02/2025  17:11             2,350 connection-123-892e002c2def.json\n",
      "23/04/2025  16:17                48 datacoms_apy_key.txt\n",
      "23/04/2025  15:56               761 etl.py\n",
      "13/04/2025  17:27                32 fred_api_key.txt\n",
      "28/04/2025  16:41             2,311 logfile.txt\n",
      "28/04/2025  16:51    <DIR>          notebooks\n",
      "13/04/2025  17:23                92 README.md\n",
      "28/04/2025  16:34    <DIR>          scripts\n",
      "28/04/2025  16:53             1,106 testing_area.ipynb\n",
      "               8 File(s)          6,801 bytes\n",
      "               5 Dir(s)  937,559,437,312 bytes free\n"
     ]
    }
   ],
   "source": [
    "ls"
   ]
  },
  {
   "cell_type": "code",
   "execution_count": 3,
   "id": "81b3eb9a-4b72-454a-8f5b-743c41370f1b",
   "metadata": {},
   "outputs": [],
   "source": [
    "from scripts import bitcoin_price"
   ]
  },
  {
   "cell_type": "code",
   "execution_count": 4,
   "id": "36f1d27a-ea67-4c69-abac-f5e57b7ef375",
   "metadata": {},
   "outputs": [
    {
     "data": {
      "text/plain": [
       "['Any',\n",
       " '__builtins__',\n",
       " '__cached__',\n",
       " '__doc__',\n",
       " '__file__',\n",
       " '__loader__',\n",
       " '__name__',\n",
       " '__package__',\n",
       " '__spec__',\n",
       " 'bigquery',\n",
       " 'destination_table',\n",
       " 'fetch_bitcoin_price',\n",
       " 'logging',\n",
       " 'os',\n",
       " 'pandas_gbq',\n",
       " 'pd',\n",
       " 'requests',\n",
       " 'run_etl',\n",
       " 'schema',\n",
       " 'service_account']"
      ]
     },
     "execution_count": 4,
     "metadata": {},
     "output_type": "execute_result"
    }
   ],
   "source": [
    "dir(bitcoin_price)"
   ]
  },
  {
   "cell_type": "code",
   "execution_count": 5,
   "id": "9be74e5b-5587-444e-af8f-7db427ff123b",
   "metadata": {},
   "outputs": [
    {
     "data": {
      "text/plain": [
       "'C:\\\\Users\\\\nrade\\\\Desktop\\\\BigQuery\\\\scripts\\\\bitcoin_price.py'"
      ]
     },
     "execution_count": 5,
     "metadata": {},
     "output_type": "execute_result"
    }
   ],
   "source": [
    "bitcoin_price.__file__"
   ]
  },
  {
   "cell_type": "code",
   "execution_count": 6,
   "id": "758f8519-fa7d-4796-b5a6-4cbe3234d2c5",
   "metadata": {},
   "outputs": [
    {
     "name": "stdout",
     "output_type": "stream",
     "text": [
      " Volume in drive C is Windows\n",
      " Volume Serial Number is 6838-3BE7\n",
      "\n",
      " Directory of C:\\Users\\nrade\\Desktop\\BigQuery\n",
      "\n",
      "28/04/2025  16:55    <DIR>          .\n",
      "27/04/2025  16:28    <DIR>          ..\n",
      "23/04/2025  15:59               101 .gitignore\n",
      "28/04/2025  16:51    <DIR>          .ipynb_checkpoints\n",
      "01/02/2025  17:11             2,350 connection-123-892e002c2def.json\n",
      "23/04/2025  16:17                48 datacoms_apy_key.txt\n",
      "23/04/2025  15:56               761 etl.py\n",
      "13/04/2025  17:27                32 fred_api_key.txt\n",
      "28/04/2025  16:41             2,311 logfile.txt\n",
      "28/04/2025  16:51    <DIR>          notebooks\n",
      "13/04/2025  17:23                92 README.md\n",
      "28/04/2025  16:34    <DIR>          scripts\n",
      "28/04/2025  16:55             3,017 testing_area.ipynb\n",
      "               8 File(s)          8,712 bytes\n",
      "               5 Dir(s)  936,839,913,472 bytes free\n"
     ]
    }
   ],
   "source": [
    "ls"
   ]
  },
  {
   "cell_type": "code",
   "execution_count": null,
   "id": "a837d790-467b-409b-9ed8-1989a991ea92",
   "metadata": {},
   "outputs": [],
   "source": []
  },
  {
   "cell_type": "code",
   "execution_count": null,
   "id": "4e77ddfe-7797-4f7c-8ebf-c8444970d523",
   "metadata": {},
   "outputs": [],
   "source": []
  }
 ],
 "metadata": {
  "kernelspec": {
   "display_name": "Python 3 (ipykernel)",
   "language": "python",
   "name": "python3"
  },
  "language_info": {
   "codemirror_mode": {
    "name": "ipython",
    "version": 3
   },
   "file_extension": ".py",
   "mimetype": "text/x-python",
   "name": "python",
   "nbconvert_exporter": "python",
   "pygments_lexer": "ipython3",
   "version": "3.13.1"
  }
 },
 "nbformat": 4,
 "nbformat_minor": 5
}
