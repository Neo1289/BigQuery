{
 "cells": [
  {
   "cell_type": "code",
   "execution_count": null,
   "id": "29cadfd5-981e-4c52-bd05-e3c9df9bc372",
   "metadata": {},
   "outputs": [],
   "source": []
  },
  {
   "cell_type": "code",
   "execution_count": 6,
   "id": "cc76f637-e6d5-4861-9da8-5463828510b3",
   "metadata": {},
   "outputs": [
    {
     "name": "stdout",
     "output_type": "stream",
     "text": [
      "         date  btc_dominance  usdt_dominance\n",
      "0  2025-03-07      58.176157         4.73613\n"
     ]
    }
   ],
   "source": [
    "import requests\n",
    "import pandas as pd\n",
    "import datetime\n",
    "\n",
    "# Fetch today's global market data from CoinGecko\n",
    "url = \"https://api.coingecko.com/api/v3/global\"\n",
    "response = requests.get(url)\n",
    "data = response.json().get(\"data\", {})\n",
    "\n",
    "# Get today's date as a string\n",
    "today_date = datetime.date.today().strftime(\"%Y-%m-%d\")\n",
    "\n",
    "# Extract Bitcoin and USDT dominance (if available)\n",
    "btc_dominance = data.get(\"market_cap_percentage\", {}).get(\"btc\")\n",
    "usdt_dominance = data.get(\"market_cap_percentage\", {}).get(\"usdt\")\n",
    "\n",
    "# Create a DataFrame with the date and the dominance values\n",
    "df = pd.DataFrame({\n",
    "    \"date\": [today_date],\n",
    "    \"btc_dominance\": [btc_dominance],\n",
    "    \"usdt_dominance\": [usdt_dominance]\n",
    "})\n",
    "\n",
    "print(df)"
   ]
  },
  {
   "cell_type": "code",
   "execution_count": null,
   "id": "6a0c5246-7540-4b22-8aba-6ad59ba19992",
   "metadata": {},
   "outputs": [],
   "source": []
  },
  {
   "cell_type": "code",
   "execution_count": null,
   "id": "a35c7228-9e57-4f29-98a1-d721fa352181",
   "metadata": {},
   "outputs": [],
   "source": []
  },
  {
   "cell_type": "code",
   "execution_count": null,
   "id": "7e7fc4bb-4d9d-474e-ad83-c81f5d3dce99",
   "metadata": {},
   "outputs": [],
   "source": []
  }
 ],
 "metadata": {
  "kernelspec": {
   "display_name": "Python 3 (ipykernel)",
   "language": "python",
   "name": "python3"
  },
  "language_info": {
   "codemirror_mode": {
    "name": "ipython",
    "version": 3
   },
   "file_extension": ".py",
   "mimetype": "text/x-python",
   "name": "python",
   "nbconvert_exporter": "python",
   "pygments_lexer": "ipython3",
   "version": "3.13.1"
  }
 },
 "nbformat": 4,
 "nbformat_minor": 5
}
