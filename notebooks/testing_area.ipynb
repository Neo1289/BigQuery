{
 "cells": [
  {
   "cell_type": "code",
   "execution_count": 1,
   "id": "f1704941-9efa-4f72-b726-2f66ce93c175",
   "metadata": {},
   "outputs": [],
   "source": [
    "import sys"
   ]
  },
  {
   "cell_type": "code",
   "execution_count": 2,
   "id": "81b3eb9a-4b72-454a-8f5b-743c41370f1b",
   "metadata": {},
   "outputs": [
    {
     "name": "stdout",
     "output_type": "stream",
     "text": [
      "C:\\Users\\nrade\\AppData\\Local\\Programs\\Python\\Python313\\python313.zip\n",
      "C:\\Users\\nrade\\AppData\\Local\\Programs\\Python\\Python313\\DLLs\n",
      "C:\\Users\\nrade\\AppData\\Local\\Programs\\Python\\Python313\\Lib\n",
      "C:\\Users\\nrade\\AppData\\Local\\Programs\\Python\\Python313\n",
      "\n",
      "C:\\Users\\nrade\\AppData\\Local\\Programs\\Python\\Python313\\Lib\\site-packages\n",
      "C:\\Users\\nrade\\AppData\\Local\\Programs\\Python\\Python313\\Lib\\site-packages\\win32\n",
      "C:\\Users\\nrade\\AppData\\Local\\Programs\\Python\\Python313\\Lib\\site-packages\\win32\\lib\n",
      "C:\\Users\\nrade\\AppData\\Local\\Programs\\Python\\Python313\\Lib\\site-packages\\Pythonwin\n"
     ]
    }
   ],
   "source": [
    "for p in sys.path:\n",
    "    print(p)"
   ]
  },
  {
   "cell_type": "code",
   "execution_count": null,
   "id": "36f1d27a-ea67-4c69-abac-f5e57b7ef375",
   "metadata": {},
   "outputs": [],
   "source": []
  }
 ],
 "metadata": {
  "kernelspec": {
   "display_name": "Python 3 (ipykernel)",
   "language": "python",
   "name": "python3"
  },
  "language_info": {
   "codemirror_mode": {
    "name": "ipython",
    "version": 3
   },
   "file_extension": ".py",
   "mimetype": "text/x-python",
   "name": "python",
   "nbconvert_exporter": "python",
   "pygments_lexer": "ipython3",
   "version": "3.13.1"
  }
 },
 "nbformat": 4,
 "nbformat_minor": 5
}
