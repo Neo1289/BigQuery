{
 "cells": [
  {
   "cell_type": "code",
   "execution_count": 13,
   "id": "f1704941-9efa-4f72-b726-2f66ce93c175",
   "metadata": {},
   "outputs": [
    {
     "name": "stdout",
     "output_type": "stream",
     "text": [
      "{'data': {'active_cryptocurrencies': 17086, 'upcoming_icos': 0, 'ongoing_icos': 49, 'ended_icos': 3376, 'markets': 1296, 'total_market_cap': {'btc': 32843516.909226462, 'eth': 1717688360.5194616, 'ltc': 35608218885.43903, 'bch': 9270263482.477402, 'bnb': 4528984391.869906, 'eos': 3831705725266.783, 'xrp': 1390289335329.9226, 'xlm': 11536018298571.916, 'link': 224008256105.69034, 'dot': 753636466731.8524, 'yfi': 559471861.7277749, 'usd': 2537329477904.898, 'aed': 9319674605581.637, 'ars': 2731863661793557.0, 'aud': 4228500172200.1577, 'bdt': 308037581191534.75, 'bhd': 956299181586.5328, 'bmd': 2537329477904.898, 'brl': 15376470369051.473, 'cad': 3603030694590.257, 'chf': 2133386625022.4385, 'clp': 2547605662290413.0, 'cny': 18649117929653.21, 'czk': 57856092873996.79, 'dkk': 17158129844517.258, 'eur': 2297719305988.4272, 'gbp': 1987990033950.054, 'gel': 6980193393716.375, 'hkd': 19677218460805.496, 'huf': 941133563297095.2, 'idr': 4.299845086387056e+16, 'ils': 9689482764997.842, 'inr': 219938758865511.1, 'jpy': 367448904338999.3, 'krw': 3738614336445247.5, 'kwd': 780241501103.1455, 'lkr': 752588268623089.5, 'mmk': 5323317244644473.0, 'mxn': 53211392010206.41, 'myr': 11407833332660.422, 'ngn': 3989595377878545.5, 'nok': 27925855845809.742, 'nzd': 4569129042620.457, 'php': 145504447873831.16, 'pkr': 711470829209663.8, 'pln': 9865456713608.459, 'rub': 218899270799661.97, 'sar': 9528628762746.06, 'sek': 25418395810518.742, 'sgd': 3418181167465.9277, 'thb': 87339955288442.39, 'try': 96446722577533.02, 'twd': 83407092060360.31, 'uah': 104696324147738.88, 'vef': 254062800622.61743, 'vnd': 6.5947575018347736e+16, 'zar': 50439364630254.28, 'xdr': 1908662965152.8352, 'xag': 83364848061.88268, 'xau': 824708200.2034292, 'bits': 32843516909226.46, 'sats': 3284351690922646.0}, 'total_volume': {'btc': 2049391.2808305593, 'eth': 107181443.41734053, 'ltc': 2221904965.6410117, 'bch': 578451972.8657335, 'bnb': 282602534.5997114, 'eos': 239093283638.7048, 'xrp': 86752184594.95857, 'xlm': 719832025965.3303, 'link': 13977813891.425705, 'dot': 47025901888.18438, 'yfi': 34910291.68599309, 'usd': 158325946730.50574, 'aed': 581535160489.8158, 'ars': 170464618158013.8, 'aud': 263852723441.53543, 'bdt': 19221130757915.996, 'bhd': 59671782715.15377, 'bmd': 158325946730.50574, 'brl': 959471069781.5378, 'cad': 224824269290.83875, 'chf': 133120456011.00923, 'clp': 158967166814764.28, 'cny': 1163679875874.5442, 'czk': 3610142379288.962, 'dkk': 1070644224730.8177, 'eur': 143374594276.95715, 'gbp': 124047904285.51106, 'gel': 435554679455.62134, 'hkd': 1227831966230.2778, 'huf': 58725468531545.53, 'idr': 2683045501283772.0, 'ils': 604610692247.9468, 'inr': 13723882737084.42, 'jpy': 22928317414495.285, 'krw': 233284506183521.0, 'kwd': 48686020249.36416, 'lkr': 46960495736016.84, 'mmk': 332167836240600.9, 'mxn': 3320319292479.2744, 'myr': 711833456500.3539, 'ngn': 248945385601178.0, 'nok': 1742535844693.7864, 'nzd': 285107506812.2657, 'php': 9079281844841.791, 'pkr': 44394822819293.31, 'pln': 615591229957.4943, 'rub': 13659020079879.76, 'sar': 594573618854.9664, 'sek': 1586073711008.1921, 'sgd': 213289907419.62784, 'thb': 5449895738357.469, 'try': 6018145768657.126, 'twd': 5204490362599.237, 'uah': 6532909810980.393, 'vef': 15853177046.12554, 'vnd': 4115039982108426.5, 'zar': 3147348512328.092, 'xdr': 119098001886.92853, 'xag': 5201854393.912121, 'xau': 51460682.46581629, 'bits': 2049391280830.5593, 'sats': 204939128083055.94}, 'market_cap_percentage': {'btc': 60.43476724754775, 'eth': 7.0203243713841985, 'usdt': 5.671213106260542, 'xrp': 4.190782775858015, 'bnb': 3.219564062245242, 'usdc': 2.370495160329158, 'sol': 2.161346313515471, 'trx': 0.8618644140997462, 'doge': 0.8562210273998825, 'ada': 0.8071200401151015}, 'market_cap_change_percentage_24h_usd': -3.819895167998514, 'updated_at': 1744211381}}\n",
      "Total Market Cap (USD): $2,537,329,477,904.90\n",
      "Bitcoin Market Cap (USD): $1,533,429,164,275.24\n",
      "USDT Market Cap (USD): $143,891,014,441.00\n",
      "USDC Market Cap (USD): $60,144,409,689.00\n"
     ]
    }
   ],
   "source": [
    "import requests\n",
    "\n",
    "def fetch_market_caps():\n",
    "    try:\n",
    "        # Global market data (includes total market cap and Bitcoin dominance)\n",
    "        global_url = 'https://api.coingecko.com/api/v3/global'\n",
    "        global_data = requests.get(global_url).json()\n",
    "        print(global_data)\n",
    "        total_market_cap = global_data['data']['total_market_cap']['usd']\n",
    "        btc_market_cap = total_market_cap * (global_data['data']['market_cap_percentage']['btc'] / 100)\n",
    "\n",
    "        # Tether (USDT) data\n",
    "        usdt_url = 'https://api.coingecko.com/api/v3/coins/tether'\n",
    "        usdt_data = requests.get(usdt_url).json()\n",
    "        usdt_market_cap = usdt_data['market_data']['market_cap']['usd']\n",
    "\n",
    "        # USD Coin (USDC) data\n",
    "        usdc_url = 'https://api.coingecko.com/api/v3/coins/usd-coin'\n",
    "        usdc_data = requests.get(usdc_url).json()\n",
    "        usdc_market_cap = usdc_data['market_data']['market_cap']['usd']\n",
    "\n",
    "        return {\n",
    "            'Total Market Cap (USD)': total_market_cap,\n",
    "            'Bitcoin Market Cap (USD)': btc_market_cap,\n",
    "            'USDT Market Cap (USD)': usdt_market_cap,\n",
    "            'USDC Market Cap (USD)': usdc_market_cap\n",
    "        }\n",
    "\n",
    "    except Exception as e:\n",
    "        return {'error': str(e)}\n",
    "\n",
    "# Example usage\n",
    "if __name__ == \"__main__\":\n",
    "    caps = fetch_market_caps()\n",
    "    for key, value in caps.items():\n",
    "        print(f\"{key}: ${value:,.2f}\" if isinstance(value, (int, float)) else f\"{key}: {value}\")\n"
   ]
  },
  {
   "cell_type": "code",
   "execution_count": null,
   "id": "81b3eb9a-4b72-454a-8f5b-743c41370f1b",
   "metadata": {},
   "outputs": [],
   "source": []
  }
 ],
 "metadata": {
  "kernelspec": {
   "display_name": "Python 3 (ipykernel)",
   "language": "python",
   "name": "python3"
  },
  "language_info": {
   "codemirror_mode": {
    "name": "ipython",
    "version": 3
   },
   "file_extension": ".py",
   "mimetype": "text/x-python",
   "name": "python",
   "nbconvert_exporter": "python",
   "pygments_lexer": "ipython3",
   "version": "3.13.1"
  }
 },
 "nbformat": 4,
 "nbformat_minor": 5
}
