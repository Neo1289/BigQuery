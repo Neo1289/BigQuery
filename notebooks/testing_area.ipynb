{
 "cells": [
  {
   "cell_type": "code",
   "execution_count": 6,
   "id": "f1704941-9efa-4f72-b726-2f66ce93c175",
   "metadata": {},
   "outputs": [
    {
     "name": "stdout",
     "output_type": "stream",
     "text": [
      "Retrieved 27 observations for CPIAUCSL\n",
      "         date    value\n",
      "0  2023-01-01  6.34030\n",
      "1  2023-02-01  5.95765\n",
      "2  2023-03-01  4.93135\n",
      "3  2023-04-01  4.94695\n",
      "4  2023-05-01  4.12531\n"
     ]
    }
   ],
   "source": [
    "import os\n",
    "import requests\n",
    "import pandas as pd\n",
    "from datetime import datetime\n",
    "import numpy as np\n",
    "from typing import List, Dict, TypedDict, Optional, Any\n",
    "\n",
    "# Read API key\n",
    "with open('../fred_api_key.txt', 'r') as f:\n",
    "    api_key = f.read().strip()\n",
    "\n",
    "# Base URL for FRED API\n",
    "base_url = \"https://api.stlouisfed.org/fred/\"\n",
    "\n",
    "# Function to make API requests\n",
    "def fred_request(endpoint: str, params: Optional[Dict[str, Any]] = None) -> Optional[Dict[str, Any]]:\n",
    "    if params is None:\n",
    "        params = {}\n",
    "    \n",
    "    # Add API key to parameters\n",
    "    params['api_key'] = api_key\n",
    "    params['file_type'] = 'json'\n",
    "    \n",
    "    # Make request\n",
    "    url = base_url + endpoint\n",
    "    response = requests.get(url, params=params)\n",
    "    \n",
    "    # Check for successful response\n",
    "    if response.status_code == 200:\n",
    "        return response.json()\n",
    "    else:\n",
    "        print(f\"Error: {response.status_code}\")\n",
    "        print(response.text)\n",
    "        return None\n",
    "        \n",
    "def get_inflation_data(series_id: str = \"CPIAUCSL\") -> Optional[pd.DataFrame]:  # Consumer Price Index for All Urban Consumers\n",
    "    endpoint = \"series/observations\"\n",
    "    params = {\n",
    "        \"series_id\": series_id,\n",
    "        \"observation_start\": \"2023-01-01\",  \n",
    "        \"frequency\": \"m\",  \n",
    "        \"units\": \"pc1\"     # Percent change from a year ago\n",
    "    }\n",
    "    result = fred_request(endpoint, params)\n",
    "    \n",
    "    if result and 'observations' in result:\n",
    "        print(f\"Retrieved {len(result['observations'])} observations for {series_id}\")\n",
    "        \n",
    "        # Convert to DataFrame\n",
    "        df = pd.DataFrame(result['observations'])\n",
    "        df = df[['date', 'value']]\n",
    "        df['value'] = pd.to_numeric(df['value'], errors='coerce')\n",
    "        \n",
    "        return df\n",
    "    else:\n",
    "        print(\"Failed to retrieve inflation data\")\n",
    "        return None\n",
    "\n",
    "\n",
    "# Run functions to explore category ID 33509\n",
    "if __name__ == \"__main__\":\n",
    "    inflation_df = get_inflation_data()\n",
    "    print(inflation_df.head())"
   ]
  },
  {
   "cell_type": "code",
   "execution_count": null,
   "id": "81b3eb9a-4b72-454a-8f5b-743c41370f1b",
   "metadata": {},
   "outputs": [],
   "source": []
  }
 ],
 "metadata": {
  "kernelspec": {
   "display_name": "Python 3 (ipykernel)",
   "language": "python",
   "name": "python3"
  },
  "language_info": {
   "codemirror_mode": {
    "name": "ipython",
    "version": 3
   },
   "file_extension": ".py",
   "mimetype": "text/x-python",
   "name": "python",
   "nbconvert_exporter": "python",
   "pygments_lexer": "ipython3",
   "version": "3.13.1"
  }
 },
 "nbformat": 4,
 "nbformat_minor": 5
}
